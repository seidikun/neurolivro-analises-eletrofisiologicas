{
  "nbformat": 4,
  "nbformat_minor": 0,
  "metadata": {
    "colab": {
      "provenance": [],
      "authorship_tag": "ABX9TyOQ934sKMy6OGn6hOrfEt9m",
      "include_colab_link": true
    },
    "kernelspec": {
      "name": "python3",
      "display_name": "Python 3"
    },
    "language_info": {
      "name": "python"
    }
  },
  "cells": [
    {
      "cell_type": "markdown",
      "metadata": {
        "id": "view-in-github",
        "colab_type": "text"
      },
      "source": [
        "<a href=\"https://colab.research.google.com/github/seidikun/neurolivro-analises-eletrofisiologicas/blob/main/Book1_Cap2.ipynb\" target=\"_parent\"><img src=\"https://colab.research.google.com/assets/colab-badge.svg\" alt=\"Open In Colab\"/></a>"
      ]
    },
    {
      "cell_type": "markdown",
      "source": [
        "# Capítulo 2 - Como captar esse sinal?\n",
        "\n",
        "## Sumário\n",
        "* Como são registrados os sinais eletrofisiológicos (técnicas de registro)\n",
        "* Empresas, marcas, softwares de aquisição\n",
        "* Preparação do paciente ou sujeito experimental\n",
        "* Considerações éticas"
      ],
      "metadata": {
        "id": "MKnIxU6R2huF"
      }
    },
    {
      "cell_type": "markdown",
      "source": [
        "##2.1 Como são registrados os sinais eletrofisiológicos?\n"
      ],
      "metadata": {
        "id": "2M_M1OW28YeM"
      }
    },
    {
      "cell_type": "markdown",
      "source": [
        "Os sinais eletrofisiológicos podem ser registrados por meio de diferentes técnicas e equipamentos, dependendo do tipo de sinal que está sendo estudado. Aqui estão algumas das técnicas mais comuns para cada um dos sinais que você mencionou:\n",
        "\n",
        "* EEG (eletroencefalograma): O EEG é um registro da atividade elétrica do cérebro. É registrado com a ajuda de eletrodos fixados no couro cabeludo. Os eletrodos estão conectados a um amplificador que amplifica o sinal elétrico do cérebro e o transmite para um computador para análise. A atividade elétrica do cérebro é registrada em diferentes frequências, que podem indicar diferentes estados de consciência e padrões de atividade cerebral.\n",
        "\n",
        "* EMG (eletromiograma): O EMG é um registro da atividade elétrica dos músculos. É registrado com a ajuda de eletrodos fixados na superfície da pele acima do músculo de interesse. Os eletrodos estão conectados a um amplificador que amplifica o sinal elétrico do músculo e o transmite para um computador para análise. A atividade elétrica dos músculos é registrada durante contrações musculares e pode indicar problemas neurológicos ou musculares.\n",
        "\n",
        "* LFP (potencial de campo local): O LFP é um registro da atividade elétrica de um grupo de neurônios próximos entre si. É registrado com a ajuda de eletrodos finos inseridos diretamente no tecido cerebral. Os eletrodos estão conectados a um amplificador que amplifica o sinal elétrico dos neurônios e o transmite para um computador para análise. O LFP é usado para estudar a atividade neuronal em diferentes regiões cerebrais.\n",
        "\n",
        "* Spikes: Os spikes são registros da atividade elétrica de um único neurônio. São registrados com a ajuda de um microeletrodo inserido diretamente no tecido cerebral. O microeletrodo está conectado a um amplificador que amplifica o sinal elétrico do neurônio e o transmite para um computador para análise. Os spikes são usados para estudar a atividade neuronal em nível celular.\n",
        "\n",
        "* fNIRS (espectroscopia funcional no infravermelho próximo): O fNIRS é um registro da atividade hemodinâmica do cérebro. É registrado com a ajuda de sensores fixados no couro cabeludo que emitem luz infravermelha próxima e detectam a luz refletida pelo cérebro. A absorção de luz pela hemoglobina indica o nível de atividade cerebral. O fNIRS é usado para estudar a atividade cerebral durante tarefas cognitivas e emocionais.\n",
        "\n",
        "* Eye tracking: O Eye tracking é uma técnica usada para registrar o movimento dos olhos durante uma tarefa visual. É registrado com a ajuda de uma câmera que segue o movimento dos olhos. O Eye tracking é usado para estudar a atenção visual, a percepção visual e o comportamento durante a navegação em ambientes virtuais.\n",
        "\n",
        "* ECoG: Implantação de eletrodos: Para registrar os sinais ECoG, são necessários eletrodos que possam ser implantados diretamente no cérebro do paciente. Os eletrodos são posicionados sobre a superfície do córtex cerebral e são fixados com um pequeno adesivo ou cola biocompatível.\n",
        "Amplificação e registro dos sinais: Os sinais ECoG são amplificados e registrados usando um equipamento chamado sistema de aquisição de dados. O sistema de aquisição de dados registra os sinais em tempo real, e permite a análise e o processamento dos sinais posteriormente.\n",
        "\n",
        "* Sudorese: Preparação da pele: Antes de registrar a sudorese, a pele do paciente precisa ser preparada para melhorar a condutividade elétrica. Geralmente, a pele é limpa e seca e é aplicado um gel condutor na superfície da pele onde os eletrodos serão colocados.\n",
        "Colocação de eletrodos: Os eletrodos de registro da sudorese são geralmente colocados nas pontas dos dedos ou na palma das mãos do paciente. Eles são fixados na pele com um adesivo ou uma pulseira e são conectados a um sistema de aquisição de dados.\n",
        "Amplificação e registro dos sinais: Os sinais de sudorese são amplificados e registrados usando um equipamento de registro de dados. O sistema de aquisição de dados registra os sinais em tempo real e permite a análise e o processamento dos sinais posteriormente."
      ],
      "metadata": {
        "id": "HjzKlJNO8bjv"
      }
    },
    {
      "cell_type": "markdown",
      "source": [
        "##2.2 Preparação do paciente ou sujeito experimental"
      ],
      "metadata": {
        "id": "GK28No048kOw"
      }
    },
    {
      "cell_type": "markdown",
      "source": [
        "A preparação do paciente ou sujeito experimental é uma etapa importante para a obtenção de sinais eletrofisiológicos confiáveis. Abaixo estão algumas considerações importantes para a preparação do paciente/sujeito experimental para o registro de sinais eletrofisiológicos:\n",
        "\n",
        "* Obter o consentimento informado: É importante que o paciente/sujeito experimental esteja ciente do procedimento de registro de sinais eletrofisiológicos e dos possíveis riscos associados. Um consentimento informado deve ser obtido antes do procedimento.\n",
        "\n",
        "* Remoção de metais: Antes do procedimento, é importante remover qualquer objeto metálico que possa interferir no registro dos sinais eletrofisiológicos, como jóias, relógios, piercing e grampos de cabelo.\n",
        "\n",
        "* Higiene pessoal: É importante que o paciente/sujeito experimental esteja limpo e sem suor excessivo antes do procedimento, pois o suor pode afetar a qualidade dos sinais eletrofisiológicos.\n",
        "\n",
        "* Jejum: Em alguns procedimentos, como em eletroencefalograma (EEG), pode ser necessário que o paciente esteja em jejum para reduzir a interferência dos movimentos do trato gastrointestinal nos sinais registrados.\n",
        "\n",
        "* Relaxamento: Para algumas aplicações, como em biofeedback, é importante que o paciente esteja relaxado antes do procedimento para reduzir o ruído nos sinais eletrofisiológicos.\n",
        "\n",
        "* Vestimentas adequadas: Dependendo do procedimento, o paciente/sujeito experimental pode ser instruído a usar roupas confortáveis e de fácil acesso para a colocação dos eletrodos ou sensores.\n",
        "\n",
        "Em resumo, a preparação do paciente/sujeito experimental varia dependendo do tipo de sinal eletrofisiológico a ser registrado, mas geralmente envolve a remoção de metais, higiene pessoal, jejum e relaxamento, além de obter o consentimento informado do paciente/sujeito experimental."
      ],
      "metadata": {
        "id": "ZJ3-jV0N8mMj"
      }
    },
    {
      "cell_type": "markdown",
      "source": [
        "##2.3 Considerações éticas"
      ],
      "metadata": {
        "id": "xzJiNeB38qe7"
      }
    },
    {
      "cell_type": "markdown",
      "source": [
        "A obtenção de sinais eletrofisiológicos pode envolver questões éticas que devem ser levadas em consideração durante todo o processo. Algumas das considerações éticas mais importantes incluem:\n",
        "\n",
        "* Consentimento informado: É importante que o paciente ou sujeito experimental esteja ciente do procedimento e dos possíveis riscos associados. Um consentimento informado deve ser obtido antes do procedimento e o paciente deve ter a liberdade de desistir a qualquer momento.\n",
        "\n",
        "* Privacidade e confidencialidade: Os dados coletados devem ser mantidos confidenciais e apenas aqueles que têm autorização devem ter acesso aos dados. Os dados não devem ser divulgados a terceiros sem o consentimento do paciente.\n",
        "\n",
        "* Beneficência e não maleficência: O procedimento deve ser realizado de forma a maximizar os benefícios para o paciente ou sujeito experimental e minimizar os riscos e danos potenciais.\n",
        "\n",
        "* Justiça: O recrutamento de pacientes ou sujeitos experimentais deve ser justo e equitativo, sem discriminação com base em raça, etnia, gênero ou outras características pessoais.\n",
        "\n",
        "* Interesse da ciência: É importante que a pesquisa seja realizada com rigor científico e de acordo com os padrões éticos estabelecidos pela comunidade científica.\n",
        "\n",
        "* Responsabilidade profissional: Os pesquisadores devem ter conhecimento e habilidade suficientes para realizar o procedimento e tomar as medidas necessárias para minimizar os riscos potenciais.\n",
        "\n",
        "Em resumo, a obtenção de sinais eletrofisiológicos deve ser realizada com considerações éticas em mente, incluindo o consentimento informado, privacidade, beneficência e não maleficência, justiça, interesse da ciência e responsabilidade profissional."
      ],
      "metadata": {
        "id": "rwRXs9Cm8tQb"
      }
    },
    {
      "cell_type": "markdown",
      "source": [
        "##2.4 Empresas e softwares de aquisição"
      ],
      "metadata": {
        "id": "6S3Q3tbG8wK2"
      }
    },
    {
      "cell_type": "markdown",
      "source": [
        "Existem diversas empresas, marcas e softwares de aquisição de sinais eletrofisiológicos no mercado, cada um com suas características específicas. Algumas das principais empresas e marcas são:\n",
        "\n",
        "* BioSemi: Oferece sistemas de aquisição de EEG e MEG com alta qualidade de sinal e baixo ruído.\n",
        "\n",
        "* Brain Products: Oferece sistemas de aquisição de EEG, MEG e fNIRS, além de software de análise de dados.\n",
        "\n",
        "* g.tec: Oferece sistemas de aquisição de EEG, ECoG, EMG e EOG, além de softwares de análise e treinamento cerebral.\n",
        "\n",
        "* Blackrock Microsystems: Oferece sistemas de aquisição de ECoG, LFP e spikes, além de software de análise de dados.\n",
        "\n",
        "* Nihon Kohden: Oferece sistemas de aquisição de EEG, EMG, EOG e PSG, além de software de análise de dados.\n",
        "\n",
        "* Neurosky: Oferece dispositivos portáteis de aquisição de EEG para uso em pesquisas e aplicações comerciais.\n",
        "\n",
        "Alguns dos softwares de aquisição e análise de dados mais utilizados incluem:\n",
        "\n",
        "* LabVIEW: Um ambiente de desenvolvimento gráfico para aquisição de dados e controle de instrumentos.\n",
        "\n",
        "* BCI2000: Um software de código aberto para aquisição e processamento de sinais eletrofisiológicos em aplicações de interface cérebro-computador.\n",
        "\n",
        "* OpenVIBE: Um software de código aberto para aquisição e processamento de sinais eletrofisiológicos em aplicações de interface cérebro-computador.\n",
        "\n",
        "* BrainVision Recorder: Software de aquisição de dados de EEG e MEG, com suporte para uma ampla gama de sistemas de aquisição de dados.\n",
        "\n",
        "* LabChart: Software de aquisição de dados multi-sensorial com suporte para EEG, ECG, EMG, EOG, entre outros sinais eletrofisiológicos.\n",
        "\n",
        "* OpenBCI GUI: Software de aquisição de dados de EEG e outros sinais eletrofisiológicos, desenvolvido especificamente para uso com dispositivos OpenBCI.\n",
        "\n",
        "* EEGLAB: Um pacote de software livre para processamento e análise de EEG que também inclui recursos para aquisição de dados de EEG.\n",
        "\n",
        "* BioSemi ActiView: Software de aquisição de dados de EEG para uso com sistemas de aquisição de dados da BioSemi.\n",
        "\n",
        "* Neuroscan Acquire: Software de aquisição de dados de EEG, MEG e outros sinais neurofisiológicos, com suporte para vários sistemas de aquisição de dados.\n",
        "\n",
        "* EyeLink: Software de aquisição de dados de Eye-Tracking que permite a coleta de dados em tempo real a partir de dispositivos de rastreamento ocular, como o EyeLink 1000 e o EyeLink Portable Duo.\n",
        "\n",
        "* BIOPAC: Software de aquisição de dados para uma variedade de sinais eletrofisiológicos, incluindo GSR (Resposta Galvânica da Pele), ECG (Eletrocardiograma) e EMG (Eletromiografia).\n",
        "\n",
        "* Noldus Observer: Software de análise de comportamento e aquisição de dados que inclui recursos para captura de vídeo e análise de movimento ocular e expressão facial.\n",
        "\n",
        "* GazePoint: Software de aquisição de dados de Eye-Tracking que permite a coleta de dados em tempo real a partir de dispositivos de rastreamento ocular, como o GP3 HD e o GP3 Mini.\n",
        "\n",
        "* E-Prime: Software para experimentos de psicologia que inclui recursos para aquisição de dados de GSR (Resposta Galvânica da Pele) e ECG (Eletrocardiograma).\n",
        "\n",
        "* VIVO: Software de aquisição de dados de fala que permite a gravação e análise de sinais de voz, além de fornecer informações sobre a frequência, amplitude e duração dos sons vocais.\n",
        "\n",
        "É importante lembrar que a escolha da empresa, marca e software de aquisição deve ser feita com base nas necessidades específicas do experimento ou aplicação em questão, bem como nas características de cada sistema e software."
      ],
      "metadata": {
        "id": "MLlHtWib8yDm"
      }
    },
    {
      "cell_type": "code",
      "execution_count": null,
      "metadata": {
        "id": "geGyXlUk2g-x"
      },
      "outputs": [],
      "source": []
    }
  ]
}