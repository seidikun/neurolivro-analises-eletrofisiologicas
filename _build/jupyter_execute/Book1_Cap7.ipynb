{
 "cells": [
  {
   "cell_type": "markdown",
   "metadata": {
    "colab_type": "text",
    "id": "view-in-github"
   },
   "source": [
    "<a href=\"https://colab.research.google.com/github/seidikun/neurolivro-analises-eletrofisiologicas/blob/main/Book1_Cap7.ipynb\" target=\"_parent\"><img src=\"https://colab.research.google.com/assets/colab-badge.svg\" alt=\"Open In Colab\"/></a>"
   ]
  },
  {
   "cell_type": "markdown",
   "metadata": {
    "id": "0TdgI04Ij3wA"
   },
   "source": [
    "# Onde posso encontrar mais sobre eletrofisiologia?"
   ]
  },
  {
   "cell_type": "markdown",
   "metadata": {
    "id": "QBsbyackj5me"
   },
   "source": [
    "* Principais fontes de informação em sinais eletrofisiológicos\n",
    "* Bases de dados de sinais eletrofisiológicos\n",
    "* Publicações científicas e artigos de revisão\n",
    "* Estudos de caso em diferentes áreas (neurociência, biomecânica, fisiologia, etc)\n",
    "* Exemplos práticos de aplicação de técnicas de análise eletrofisiológica em estudos de caso.\n"
   ]
  },
  {
   "cell_type": "code",
   "execution_count": null,
   "metadata": {
    "id": "YhyCcL0-jxo1"
   },
   "outputs": [],
   "source": []
  }
 ],
 "metadata": {
  "colab": {
   "authorship_tag": "ABX9TyPxKqkdhCD7ZI2JDf9Dvwy+",
   "include_colab_link": true,
   "provenance": []
  },
  "kernelspec": {
   "display_name": "Python 3",
   "name": "python3"
  },
  "language_info": {
   "codemirror_mode": {
    "name": "ipython",
    "version": 3
   },
   "file_extension": ".py",
   "mimetype": "text/x-python",
   "name": "python",
   "nbconvert_exporter": "python",
   "pygments_lexer": "ipython3",
   "version": "3.9.13"
  }
 },
 "nbformat": 4,
 "nbformat_minor": 0
}