{
  "nbformat": 4,
  "nbformat_minor": 0,
  "metadata": {
    "colab": {
      "provenance": [],
      "authorship_tag": "ABX9TyOUiVrcYivT8uC5q2nayAvH",
      "include_colab_link": true
    },
    "kernelspec": {
      "name": "python3",
      "display_name": "Python 3"
    },
    "language_info": {
      "name": "python"
    }
  },
  "cells": [
    {
      "cell_type": "markdown",
      "metadata": {
        "id": "view-in-github",
        "colab_type": "text"
      },
      "source": [
        "<a href=\"https://colab.research.google.com/github/seidikun/neurolivro-analises-eletrofisiologicas/blob/main/Book1_Cap6.ipynb\" target=\"_parent\"><img src=\"https://colab.research.google.com/assets/colab-badge.svg\" alt=\"Open In Colab\"/></a>"
      ]
    },
    {
      "cell_type": "markdown",
      "source": [
        "# Capítulo 6 - Ok, mas o que esses dados querem dizer?"
      ],
      "metadata": {
        "id": "8d97uDXIjT7-"
      }
    },
    {
      "cell_type": "markdown",
      "source": [
        "## Sumário\n",
        "* O que é visualização e interpretação de sinais eletrofisiológicos\n",
        "* Métodos de visualização (gráficos, tabelas, mapas, etc)\n",
        "* Uso de software de visualização e interpretação\n",
        "* Exemplos práticos de visualização e interpretação de sinais eletrofisiológicos\n",
        "* Interpretação dos resultados\n"
      ],
      "metadata": {
        "id": "5FFSUyzEjVmL"
      }
    },
    {
      "cell_type": "code",
      "execution_count": null,
      "metadata": {
        "id": "-USHbpV1jD9E"
      },
      "outputs": [],
      "source": []
    }
  ]
}