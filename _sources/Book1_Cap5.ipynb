{
  "nbformat": 4,
  "nbformat_minor": 0,
  "metadata": {
    "colab": {
      "provenance": [],
      "authorship_tag": "ABX9TyNmeGhz7eJmzR1IsPbhWlx3",
      "include_colab_link": true
    },
    "kernelspec": {
      "name": "python3",
      "display_name": "Python 3"
    },
    "language_info": {
      "name": "python"
    }
  },
  "cells": [
    {
      "cell_type": "markdown",
      "metadata": {
        "id": "view-in-github",
        "colab_type": "text"
      },
      "source": [
        "<a href=\"https://colab.research.google.com/github/seidikun/neurolivro-analises-eletrofisiologicas/blob/main/Book1_Cap5.ipynb\" target=\"_parent\"><img src=\"https://colab.research.google.com/assets/colab-badge.svg\" alt=\"Open In Colab\"/></a>"
      ]
    },
    {
      "cell_type": "markdown",
      "source": [
        "# Capítulo 5 - Análises no domínio das frequências: Por que o domínio do tempo não é suficiente?"
      ],
      "metadata": {
        "id": "8d97uDXIjT7-"
      }
    },
    {
      "cell_type": "markdown",
      "source": [
        "## Sumário\n",
        "* O que é análise de frequência\n",
        "* Conceitos básicos de transformada de Fourier\n",
        "* Espectro de frequência\n",
        "* Análise espectral de sinais\n",
        "* Principais medidas de análise de frequência (pico de frequência, largura de banda, etc)\n",
        "* Interpretação dos resultados\n"
      ],
      "metadata": {
        "id": "5FFSUyzEjVmL"
      }
    },
    {
      "cell_type": "code",
      "execution_count": null,
      "metadata": {
        "id": "-USHbpV1jD9E"
      },
      "outputs": [],
      "source": []
    }
  ]
}