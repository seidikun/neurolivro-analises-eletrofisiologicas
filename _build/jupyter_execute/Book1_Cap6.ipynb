{
 "cells": [
  {
   "cell_type": "markdown",
   "metadata": {
    "colab_type": "text",
    "id": "view-in-github"
   },
   "source": [
    "<a href=\"https://colab.research.google.com/github/seidikun/neurolivro-analises-eletrofisiologicas/blob/main/Book1_Cap6.ipynb\" target=\"_parent\"><img src=\"https://colab.research.google.com/assets/colab-badge.svg\" alt=\"Open In Colab\"/></a>"
   ]
  },
  {
   "cell_type": "markdown",
   "metadata": {
    "id": "8d97uDXIjT7-"
   },
   "source": [
    "# Capítulo 6 - Ok, mas o que esses dados querem dizer?"
   ]
  },
  {
   "cell_type": "markdown",
   "metadata": {
    "id": "5FFSUyzEjVmL"
   },
   "source": [
    "## Sumário\n",
    "* O que é visualização e interpretação de sinais eletrofisiológicos\n",
    "* Métodos de visualização (gráficos, tabelas, mapas, etc)\n",
    "* Uso de software de visualização e interpretação\n",
    "* Exemplos práticos de visualização e interpretação de sinais eletrofisiológicos\n",
    "* Interpretação dos resultados\n"
   ]
  },
  {
   "cell_type": "code",
   "execution_count": null,
   "metadata": {
    "id": "-USHbpV1jD9E"
   },
   "outputs": [],
   "source": []
  }
 ],
 "metadata": {
  "colab": {
   "authorship_tag": "ABX9TyOUiVrcYivT8uC5q2nayAvH",
   "include_colab_link": true,
   "provenance": []
  },
  "kernelspec": {
   "display_name": "Python 3",
   "name": "python3"
  },
  "language_info": {
   "codemirror_mode": {
    "name": "ipython",
    "version": 3
   },
   "file_extension": ".py",
   "mimetype": "text/x-python",
   "name": "python",
   "nbconvert_exporter": "python",
   "pygments_lexer": "ipython3",
   "version": "3.9.13"
  }
 },
 "nbformat": 4,
 "nbformat_minor": 0
}