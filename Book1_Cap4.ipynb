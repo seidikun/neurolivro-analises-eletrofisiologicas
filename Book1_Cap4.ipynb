{
  "nbformat": 4,
  "nbformat_minor": 0,
  "metadata": {
    "colab": {
      "provenance": [],
      "authorship_tag": "ABX9TyMJuMAt/Oc+77IaSx4cJnLE",
      "include_colab_link": true
    },
    "kernelspec": {
      "name": "python3",
      "display_name": "Python 3"
    },
    "language_info": {
      "name": "python"
    }
  },
  "cells": [
    {
      "cell_type": "markdown",
      "metadata": {
        "id": "view-in-github",
        "colab_type": "text"
      },
      "source": [
        "<a href=\"https://colab.research.google.com/github/seidikun/neurolivro-analises-eletrofisiologicas/blob/main/Book1_Cap4.ipynb\" target=\"_parent\"><img src=\"https://colab.research.google.com/assets/colab-badge.svg\" alt=\"Open In Colab\"/></a>"
      ]
    },
    {
      "cell_type": "markdown",
      "source": [
        "# Capítulo 4 - Análise no domínio do tempo"
      ],
      "metadata": {
        "id": "xE9vCogLh4gx"
      }
    },
    {
      "cell_type": "markdown",
      "source": [
        "* Introdução à análise temporal: definição e importância\n",
        "* Análise do sinal no domínio do tempo: características e métodos\n",
        "* Técnicas de visualização: gráficos de linha, histogramas, box plots, entre outros\n",
        "* Interpretação dos resultados: relação com eventos fisiológicos e patológicos, exemplos de aplicações em pesquisas"
      ],
      "metadata": {
        "id": "dDi_VNC3h8Jm"
      }
    },
    {
      "cell_type": "code",
      "execution_count": null,
      "metadata": {
        "id": "dfmCqTcCh0zl"
      },
      "outputs": [],
      "source": []
    }
  ]
}