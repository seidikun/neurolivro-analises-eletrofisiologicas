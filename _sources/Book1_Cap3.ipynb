{
  "nbformat": 4,
  "nbformat_minor": 0,
  "metadata": {
    "colab": {
      "provenance": [],
      "authorship_tag": "ABX9TyM9cllDCMrZ6+jjqtnm6Bqt",
      "include_colab_link": true
    },
    "kernelspec": {
      "name": "python3",
      "display_name": "Python 3"
    },
    "language_info": {
      "name": "python"
    }
  },
  "cells": [
    {
      "cell_type": "markdown",
      "metadata": {
        "id": "view-in-github",
        "colab_type": "text"
      },
      "source": [
        "<a href=\"https://colab.research.google.com/github/seidikun/neurolivro-analises-eletrofisiologicas/blob/main/Book1_Cap3.ipynb\" target=\"_parent\"><img src=\"https://colab.research.google.com/assets/colab-badge.svg\" alt=\"Open In Colab\"/></a>"
      ]
    },
    {
      "cell_type": "markdown",
      "source": [
        "# Pré-processamento: Por que meus dados precisam disso?"
      ],
      "metadata": {
        "id": "xE9vCogLh4gx"
      }
    },
    {
      "cell_type": "markdown",
      "source": [
        "* Importância do pré-processamento de sinais\n",
        "* O que são artefatos\n",
        "* Remoção de artefatos (ruídos, interferências, movimentos, etc)\n",
        "* Filtros analógicos e digitais\n",
        "* Normalização e padronização de dados\n"
      ],
      "metadata": {
        "id": "dDi_VNC3h8Jm"
      }
    },
    {
      "cell_type": "code",
      "execution_count": null,
      "metadata": {
        "id": "dfmCqTcCh0zl"
      },
      "outputs": [],
      "source": []
    }
  ]
}