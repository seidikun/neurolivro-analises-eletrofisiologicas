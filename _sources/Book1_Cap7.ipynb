{
  "nbformat": 4,
  "nbformat_minor": 0,
  "metadata": {
    "colab": {
      "provenance": [],
      "authorship_tag": "ABX9TyPxKqkdhCD7ZI2JDf9Dvwy+",
      "include_colab_link": true
    },
    "kernelspec": {
      "name": "python3",
      "display_name": "Python 3"
    },
    "language_info": {
      "name": "python"
    }
  },
  "cells": [
    {
      "cell_type": "markdown",
      "metadata": {
        "id": "view-in-github",
        "colab_type": "text"
      },
      "source": [
        "<a href=\"https://colab.research.google.com/github/seidikun/neurolivro-analises-eletrofisiologicas/blob/main/Book1_Cap7.ipynb\" target=\"_parent\"><img src=\"https://colab.research.google.com/assets/colab-badge.svg\" alt=\"Open In Colab\"/></a>"
      ]
    },
    {
      "cell_type": "markdown",
      "source": [
        "# Onde posso encontrar mais sobre eletrofisiologia?"
      ],
      "metadata": {
        "id": "0TdgI04Ij3wA"
      }
    },
    {
      "cell_type": "markdown",
      "source": [
        "* Principais fontes de informação em sinais eletrofisiológicos\n",
        "* Bases de dados de sinais eletrofisiológicos\n",
        "* Publicações científicas e artigos de revisão\n",
        "* Estudos de caso em diferentes áreas (neurociência, biomecânica, fisiologia, etc)\n",
        "* Exemplos práticos de aplicação de técnicas de análise eletrofisiológica em estudos de caso.\n"
      ],
      "metadata": {
        "id": "QBsbyackj5me"
      }
    },
    {
      "cell_type": "code",
      "execution_count": null,
      "metadata": {
        "id": "YhyCcL0-jxo1"
      },
      "outputs": [],
      "source": []
    }
  ]
}