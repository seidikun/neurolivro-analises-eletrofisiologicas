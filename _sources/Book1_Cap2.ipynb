{
  "nbformat": 4,
  "nbformat_minor": 0,
  "metadata": {
    "colab": {
      "provenance": [],
      "authorship_tag": "ABX9TyOqtUaSZCnhRAx+aq8fv2Ox",
      "include_colab_link": true
    },
    "kernelspec": {
      "name": "python3",
      "display_name": "Python 3"
    },
    "language_info": {
      "name": "python"
    }
  },
  "cells": [
    {
      "cell_type": "markdown",
      "metadata": {
        "id": "view-in-github",
        "colab_type": "text"
      },
      "source": [
        "<a href=\"https://colab.research.google.com/github/seidikun/neurolivro-analises-eletrofisiologicas/blob/main/Book1_Cap2.ipynb\" target=\"_parent\"><img src=\"https://colab.research.google.com/assets/colab-badge.svg\" alt=\"Open In Colab\"/></a>"
      ]
    },
    {
      "cell_type": "markdown",
      "source": [
        "# Capítulo 2 - Como captar esse sinal?\n",
        "\n",
        "## Sumário\n",
        "* Como são registrados os sinais eletrofisiológicos (técnicas de registro)\n",
        "* Empresas, marcas, softwares de aquisição\n",
        "* Preparação do paciente ou sujeito experimental\n",
        "* Considerações éticas"
      ],
      "metadata": {
        "id": "MKnIxU6R2huF"
      }
    },
    {
      "cell_type": "code",
      "execution_count": null,
      "metadata": {
        "id": "geGyXlUk2g-x"
      },
      "outputs": [],
      "source": []
    }
  ]
}