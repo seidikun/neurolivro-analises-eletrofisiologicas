{
 "cells": [
  {
   "cell_type": "markdown",
   "metadata": {
    "colab_type": "text",
    "id": "view-in-github"
   },
   "source": [
    "<a href=\"https://colab.research.google.com/github/seidikun/neurolivro-analises-eletrofisiologicas/blob/main/Book1_Cap5.ipynb\" target=\"_parent\"><img src=\"https://colab.research.google.com/assets/colab-badge.svg\" alt=\"Open In Colab\"/></a>"
   ]
  },
  {
   "cell_type": "markdown",
   "metadata": {
    "id": "8d97uDXIjT7-"
   },
   "source": [
    "# Análise de frequência: Por que o domínio do tempo não é suficiente?"
   ]
  },
  {
   "cell_type": "markdown",
   "metadata": {
    "id": "5FFSUyzEjVmL"
   },
   "source": [
    "## Sumário\n",
    "* O que é análise de frequência\n",
    "* Conceitos básicos de transformada de Fourier\n",
    "* Espectro de frequência\n",
    "* Análise espectral de sinais\n",
    "* Principais medidas de análise de frequência (pico de frequência, largura de banda, etc)\n",
    "* Interpretação dos resultados\n"
   ]
  },
  {
   "cell_type": "code",
   "execution_count": null,
   "metadata": {
    "id": "-USHbpV1jD9E"
   },
   "outputs": [],
   "source": []
  }
 ],
 "metadata": {
  "colab": {
   "authorship_tag": "ABX9TyMRIgwGBN7DRN09oiFL7Oe+",
   "include_colab_link": true,
   "provenance": []
  },
  "kernelspec": {
   "display_name": "Python 3",
   "name": "python3"
  },
  "language_info": {
   "codemirror_mode": {
    "name": "ipython",
    "version": 3
   },
   "file_extension": ".py",
   "mimetype": "text/x-python",
   "name": "python",
   "nbconvert_exporter": "python",
   "pygments_lexer": "ipython3",
   "version": "3.9.13"
  }
 },
 "nbformat": 4,
 "nbformat_minor": 0
}