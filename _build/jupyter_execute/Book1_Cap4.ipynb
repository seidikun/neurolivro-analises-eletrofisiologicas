{
 "cells": [
  {
   "cell_type": "markdown",
   "metadata": {
    "colab_type": "text",
    "id": "view-in-github"
   },
   "source": [
    "<a href=\"https://colab.research.google.com/github/seidikun/neurolivro-analises-eletrofisiologicas/blob/main/Book1_Cap4.ipynb\" target=\"_parent\"><img src=\"https://colab.research.google.com/assets/colab-badge.svg\" alt=\"Open In Colab\"/></a>"
   ]
  },
  {
   "cell_type": "markdown",
   "metadata": {
    "id": "xE9vCogLh4gx"
   },
   "source": [
    "# Capítulo 4 - Análise no domínio do tempo"
   ]
  },
  {
   "cell_type": "markdown",
   "metadata": {
    "id": "dDi_VNC3h8Jm"
   },
   "source": [
    "* Introdução à análise temporal: definição e importância\n",
    "* Análise do sinal no domínio do tempo: características e métodos\n",
    "* Técnicas de visualização: gráficos de linha, histogramas, box plots, entre outros\n",
    "* Interpretação dos resultados: relação com eventos fisiológicos e patológicos, exemplos de aplicações em pesquisas"
   ]
  },
  {
   "cell_type": "code",
   "execution_count": null,
   "metadata": {
    "id": "dfmCqTcCh0zl"
   },
   "outputs": [],
   "source": []
  }
 ],
 "metadata": {
  "colab": {
   "authorship_tag": "ABX9TyMJuMAt/Oc+77IaSx4cJnLE",
   "include_colab_link": true,
   "provenance": []
  },
  "kernelspec": {
   "display_name": "Python 3",
   "name": "python3"
  },
  "language_info": {
   "codemirror_mode": {
    "name": "ipython",
    "version": 3
   },
   "file_extension": ".py",
   "mimetype": "text/x-python",
   "name": "python",
   "nbconvert_exporter": "python",
   "pygments_lexer": "ipython3",
   "version": "3.9.13"
  }
 },
 "nbformat": 4,
 "nbformat_minor": 0
}