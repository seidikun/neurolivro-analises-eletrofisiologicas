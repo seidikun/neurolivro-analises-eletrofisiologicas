{
  "nbformat": 4,
  "nbformat_minor": 0,
  "metadata": {
    "colab": {
      "provenance": [],
      "include_colab_link": true
    },
    "kernelspec": {
      "name": "python3",
      "display_name": "Python 3"
    },
    "language_info": {
      "name": "python"
    }
  },
  "cells": [
    {
      "cell_type": "markdown",
      "metadata": {
        "id": "view-in-github",
        "colab_type": "text"
      },
      "source": [
        "<a href=\"https://colab.research.google.com/github/seidikun/neurolivro-analises-eletrofisiologicas/blob/main/Book1_Cap1.ipynb\" target=\"_parent\"><img src=\"https://colab.research.google.com/assets/colab-badge.svg\" alt=\"Open In Colab\"/></a>"
      ]
    },
    {
      "cell_type": "markdown",
      "source": [
        "# Capítulo 1 - Como o nosso corpo produz eletricidade?\n",
        "\n",
        "## Sumário\n",
        "\n",
        "*   O que são sinais eletrofisiológicos\n",
        "*   Tipos de sinais eletrofisiológicos (EEG, EMG, LFP, spikes, fNIRS, etc)\n",
        "*   Características e propriedades dos sinais\n",
        "*   Importância do estudo de sinais eletrofisiológicos\n",
        "*   Principais aplicações em diversas áreas\n",
        "\n",
        "\n",
        "Neste capítulo introdutório, iremos explorar os sinais eletrofisiológicos, que são os sinais elétricos produzidos pelo nosso corpo. Veremos como esses sinais são gerados e como eles podem ser medidos e analisados.\n",
        "\n",
        "Começaremos definindo o que são sinais eletrofisiológicos e explorando os diferentes tipos de sinais, como o EEG (eletroencefalograma), EMG (eletromiograma), LFP (potenciais locais de campo) e spikes (pico de ação). Também discutiremos as características e propriedades desses sinais, como amplitude, frequência e forma de onda.\n",
        "\n",
        "Em seguida, exploraremos a importância do estudo dos sinais eletrofisiológicos em diversas áreas, como medicina, neurociência, psicologia, engenharia e outras. Discutiremos as principais aplicações desses sinais em cada uma dessas áreas.\n",
        "\n",
        "Ao final deste capítulo, você terá uma compreensão básica sobre os sinais eletrofisiológicos e sua importância nas mais diversas áreas. A partir daqui, exploraremos cada tipo de sinal com mais detalhes e discutiremos as técnicas utilizadas para processá-los e analisá-los. Tudo isso em uma linguagem clara e acessível, para que você possa entender e aplicar essas técnicas em suas próprias pesquisas ou estudos."
      ],
      "metadata": {
        "id": "mOQg3KzAdxMe"
      }
    },
    {
      "cell_type": "markdown",
      "source": [
        "## 1.1 O que são sinais eletrofisiológicos?\n"
      ],
      "metadata": {
        "id": "gTrl9kWneHzW"
      }
    },
    {
      "cell_type": "markdown",
      "source": [
        "Os sinais eletrofisiológicos são sinais elétricos gerados pela atividade das células nervosas e musculares do corpo humano. Eles podem ser medidos através de eletrodos colocados na pele ou diretamente nos tecidos do corpo.\n",
        "\n",
        "Os sinais eletrofisiológicos são amplamente utilizados em diversas áreas, como medicina, neurociência, fisiologia e psicologia, entre outras. Eles são usados para monitorar a atividade elétrica do coração (ECG), do cérebro (EEG), dos músculos (EMG) e de outras partes do corpo.\n",
        "\n",
        "Por exemplo, na medicina, os sinais eletrofisiológicos são usados para diagnosticar e monitorar doenças neurológicas, como epilepsia e doença de Parkinson, e para monitorar a saúde do coração em pacientes com doenças cardíacas.\n",
        "\n",
        "Na neurociência, os sinais eletrofisiológicos são usados para estudar a atividade elétrica do cérebro e entender como as diferentes áreas do cérebro se comunicam entre si e como as funções cognitivas são realizadas.\n",
        "\n",
        "Além disso, na psicologia, os sinais eletrofisiológicos são usados para estudar a relação entre atividade cerebral e comportamento, permitindo a compreensão de questões como processamento de emoções e tomada de decisões.\n",
        "\n",
        "Em resumo, sinais eletrofisiológicos são sinais elétricos produzidos pelo corpo humano que podem ser medidos e utilizados em diversas áreas, incluindo medicina, neurociência, fisiologia e psicologia, entre outras."
      ],
      "metadata": {
        "id": "hmvpIPple8Sh"
      }
    },
    {
      "cell_type": "markdown",
      "source": [
        "##1.2 Tipos de sinais eletrofisiológicos"
      ],
      "metadata": {
        "id": "3OC0aesleNZp"
      }
    },
    {
      "cell_type": "markdown",
      "source": [
        "Existem diversos tipos de sinais eletrofisiológicos que podem ser medidos por meio de diferentes tecnologias. Alguns exemplos incluem:\n",
        "\n",
        "* EEG (eletroencefalografia): mede a atividade elétrica do cérebro por meio de eletrodos colocados no couro cabeludo, permitindo o estudo de padrões de atividade cerebral e a identificação de diferentes estados mentais.\n",
        "\n",
        "* EMG (eletromiografia): mede a atividade elétrica dos músculos por meio de eletrodos de superfície ou agulha, permitindo o estudo da contração muscular e a avaliação da função neuromuscular.\n",
        "\n",
        "* LFP (potenciais de campo local): mede a atividade elétrica de um grupo de neurônios próximos à eletrodo, permitindo o estudo de circuitos neurais locais.\n",
        "\n",
        "* Spikes: mede a atividade elétrica de um único neurônio, permitindo o estudo de processamento neuronal de alta resolução.\n",
        "\n",
        "* fNIRS (spectroscopia de infravermelho próximo funcional): mede as mudanças na concentração de oxigênio no sangue no cérebro, permitindo o estudo da atividade cerebral relacionada à função cerebral.\n",
        "\n",
        "* ECoG (eletrocorticografia): mede a atividade elétrica do cérebro diretamente da superfície do córtex cerebral, permitindo o estudo de padrões de atividade cerebral de alta resolução e o controle de próteses neurais.\n",
        "\n",
        "* Sudorese: mede a atividade das glândulas sudoríparas da pele, que são controladas pelo sistema nervoso autônomo, permitindo o estudo da resposta emocional e a avaliação do nível de estresse.\n",
        "\n",
        "* Eye tracking: mede os movimentos dos olhos, permitindo o estudo da atenção visual, a análise de comportamentos de leitura e a avaliação da eficácia de interfaces gráficas.\n",
        "\n",
        "Cada tipo de sinal eletrofisiológico requer tecnologias específicas para sua captação e análise, e o conhecimento de cada um deles pode ser importante em diferentes áreas de aplicação, como neurociência, engenharia biomédica, psicologia, entre outras. Além disso, a combinação de diferentes tipos de sinais pode fornecer informações mais ricas e precisas sobre a atividade cerebral e outras funções fisiológicas."
      ],
      "metadata": {
        "id": "Dm0D71xtjpXU"
      }
    },
    {
      "cell_type": "markdown",
      "source": [
        "##1.3 Características e propriedades dos sinais"
      ],
      "metadata": {
        "id": "K-vY7H083OCD"
      }
    },
    {
      "cell_type": "markdown",
      "source": [
        "Os sinais podem ser descritos por uma variedade de características e propriedades, que incluem:\n",
        "\n",
        "* Amplitude: A amplitude é a magnitude do sinal e representa a intensidade do sinal. É medida em unidades de volts (V) ou decibéis (dB).\n",
        "\n",
        "* Frequência: A frequência é a taxa de variação do sinal com o tempo e é medida em hertz (Hz). É uma medida da quantidade de ciclos ou oscilações por segundo.\n",
        "\n",
        "* Período: O período é o tempo necessário para uma única repetição do sinal e é o inverso da frequência. É medido em segundos (s).\n",
        "\n",
        "* Fase: A fase é a posição do sinal em relação a um ponto de referência no tempo e é medida em graus ou radianos.\n",
        "\n",
        "* Forma de onda: A forma de onda é a forma física do sinal e pode ser sinusoidal, quadrada, triangular ou de outra forma.\n",
        "\n",
        "* Polaridade: A polaridade é a direção do fluxo do sinal e pode ser positiva ou negativa.\n",
        "\n",
        "* Ruído: O ruído é a interferência aleatória no sinal que pode resultar de várias fontes, como interferência eletromagnética ou imperfeições no equipamento de medição.\n",
        "\n",
        "* Banda: A banda é a faixa de frequência dentro da qual o sinal é transmitido e é medida em hertz.\n",
        "\n",
        "* Velocidade de propagação: A velocidade de propagação é a velocidade com que o sinal se move através do meio de transmissão e pode variar de acordo com o tipo de meio utilizado.\n",
        "\n",
        "* Potência: A potência é a quantidade de energia transmitida pelo sinal e é medida em watts (W).\n",
        "\n",
        "Essas características e propriedades dos sinais são importantes para entender como os sinais são gerados, transmitidos e processados em diversas aplicações, como comunicações, eletrônica, processamento de sinais, entre outras áreas.\n",
        "\n"
      ],
      "metadata": {
        "id": "czKw0wWD3g6W"
      }
    },
    {
      "cell_type": "markdown",
      "source": [
        "##1.4 Importância do estudo de sinais eletrofisiológicos"
      ],
      "metadata": {
        "id": "U58jZgCb3wXt"
      }
    },
    {
      "cell_type": "markdown",
      "source": [
        "Aqui estão alguns tópicos que mostram a importância do estudo de sinais eletrofisiológicos:\n",
        "\n",
        "* Diagnóstico de condições clínicas: sinais eletrofisiológicos, como o eletroencefalograma (EEG) e o eletrocardiograma (ECG), são usados ​​para diagnosticar uma ampla variedade de condições médicas, incluindo distúrbios neurológicos, doenças cardíacas e distúrbios do sono.\n",
        "\n",
        "* Monitoramento da atividade cerebral e cardíaca: os sinais eletrofisiológicos permitem o monitoramento da atividade elétrica do cérebro e do coração em tempo real, ajudando a detectar mudanças na função e fornecendo informações valiosas sobre o estado de saúde do paciente.\n",
        "\n",
        "* Desenvolvimento de novas terapias: o estudo de sinais eletrofisiológicos é usado no desenvolvimento de novas terapias para uma ampla variedade de condições clínicas, como distúrbios neurológicos, lesões cerebrais e distúrbios cardíacos.\n",
        "\n",
        "* Compreensão da fisiologia do corpo humano: o estudo de sinais eletrofisiológicos permite uma compreensão mais profunda da fisiologia do corpo humano, desde a atividade celular e molecular até a função dos sistemas nervoso e cardíaco.\n",
        "\n",
        "* Interfaces cérebro-máquina: o estudo de sinais eletrofisiológicos é essencial para o desenvolvimento de interfaces cérebro-máquina, que permitem que a atividade elétrica do cérebro seja traduzida em comandos para próteses e dispositivos tecnológicos.\n",
        "\n",
        "* Pesquisa biomédica: sinais eletrofisiológicos são amplamente utilizados em pesquisas biomédicas para estudar a fisiologia do corpo humano, desenvolver novas terapias e entender melhor as condições clínicas.\n",
        "\n",
        "Em resumo, o estudo de sinais eletrofisiológicos é essencial para a compreensão do funcionamento do corpo humano em nível celular e molecular, bem como para o diagnóstico e tratamento de uma ampla variedade de condições clínicas. Ele também é importante para o desenvolvimento de novas terapias, interfaces cérebro-máquina e pesquisas biomédicas."
      ],
      "metadata": {
        "id": "4CmG_cMskX7e"
      }
    },
    {
      "cell_type": "markdown",
      "source": [
        "##1.5 Principais aplicações em diversas áreas"
      ],
      "metadata": {
        "id": "OOS62BAMlC7x"
      }
    },
    {
      "cell_type": "markdown",
      "source": [
        "Os sinais eletrofisiológicos têm diversas aplicações em diversas áreas do conhecimento, aqui estão algumas das principais aplicações:\n",
        "\n",
        "* Medicina: sinais eletrofisiológicos como o eletroencefalograma (EEG), eletrocardiograma (ECG) e eletromiograma (EMG) são amplamente utilizados em diagnósticos clínicos e monitoramento de doenças neurológicas, cardíacas e musculares.\n",
        "\n",
        "* Neurociência: a eletrofisiologia é amplamente utilizada em pesquisas de neurociência para estudar a atividade cerebral e compreender melhor os processos cognitivos e emocionais.\n",
        "\n",
        "* Engenharia biomédica: a eletrofisiologia é aplicada no desenvolvimento de próteses e dispositivos médicos que utilizam sinais elétricos para interagir com o corpo humano, como interfaces cérebro-máquina.\n",
        "\n",
        "* Psicologia: a eletrofisiologia é usada em pesquisas psicológicas para medir a atividade cerebral durante processos mentais como a atenção, emoções e tomada de decisões.\n",
        "\n",
        "* Esportes: sinais eletrofisiológicos, como o eletrocardiograma (ECG) são usados em avaliações de desempenho esportivo para medir a função cardiovascular durante o exercício.\n",
        "\n",
        "* Segurança: a eletrofisiologia é utilizada em aplicações de segurança, como o monitoramento da atividade elétrica do coração para detectar arritmias cardíacas em tempo real.\n",
        "\n",
        "* Sono: sinais eletrofisiológicos, como o EEG, são usados no estudo do sono e de distúrbios do sono para medir a atividade cerebral e entender melhor os processos de sono e vigília.\n",
        "\n",
        "Essas são apenas algumas das principais aplicações dos sinais eletrofisiológicos. A eletrofisiologia tem muitas outras aplicações em diversas áreas do conhecimento, desde a física e a biologia molecular até a ciência da computação e a inteligência artificial."
      ],
      "metadata": {
        "id": "IBRZabIilAlQ"
      }
    },
    {
      "cell_type": "markdown",
      "source": [
        "#Capítulo 2 - Como captar essa eletricidade?"
      ],
      "metadata": {
        "id": "ELjBb0hglRkm"
      }
    },
    {
      "cell_type": "markdown",
      "source": [
        "##2.1 Como são registrados os sinais eletrofisiológicos?"
      ],
      "metadata": {
        "id": "pGPmVetVlm1_"
      }
    },
    {
      "cell_type": "markdown",
      "source": [
        "Os sinais eletrofisiológicos podem ser registrados por meio de diferentes técnicas e equipamentos, dependendo do tipo de sinal que está sendo estudado. Aqui estão algumas das técnicas mais comuns para cada um dos sinais que você mencionou:\n",
        "\n",
        "* EEG (eletroencefalograma): O EEG é um registro da atividade elétrica do cérebro. É registrado com a ajuda de eletrodos fixados no couro cabeludo. Os eletrodos estão conectados a um amplificador que amplifica o sinal elétrico do cérebro e o transmite para um computador para análise. A atividade elétrica do cérebro é registrada em diferentes frequências, que podem indicar diferentes estados de consciência e padrões de atividade cerebral.\n",
        "\n",
        "* EMG (eletromiograma): O EMG é um registro da atividade elétrica dos músculos. É registrado com a ajuda de eletrodos fixados na superfície da pele acima do músculo de interesse. Os eletrodos estão conectados a um amplificador que amplifica o sinal elétrico do músculo e o transmite para um computador para análise. A atividade elétrica dos músculos é registrada durante contrações musculares e pode indicar problemas neurológicos ou musculares.\n",
        "\n",
        "* LFP (potencial de campo local): O LFP é um registro da atividade elétrica de um grupo de neurônios próximos entre si. É registrado com a ajuda de eletrodos finos inseridos diretamente no tecido cerebral. Os eletrodos estão conectados a um amplificador que amplifica o sinal elétrico dos neurônios e o transmite para um computador para análise. O LFP é usado para estudar a atividade neuronal em diferentes regiões cerebrais.\n",
        "\n",
        "* Spikes: Os spikes são registros da atividade elétrica de um único neurônio. São registrados com a ajuda de um microeletrodo inserido diretamente no tecido cerebral. O microeletrodo está conectado a um amplificador que amplifica o sinal elétrico do neurônio e o transmite para um computador para análise. Os spikes são usados para estudar a atividade neuronal em nível celular.\n",
        "\n",
        "* fNIRS (espectroscopia funcional no infravermelho próximo): O fNIRS é um registro da atividade hemodinâmica do cérebro. É registrado com a ajuda de sensores fixados no couro cabeludo que emitem luz infravermelha próxima e detectam a luz refletida pelo cérebro. A absorção de luz pela hemoglobina indica o nível de atividade cerebral. O fNIRS é usado para estudar a atividade cerebral durante tarefas cognitivas e emocionais.\n",
        "\n",
        "* Eye tracking: O Eye tracking é uma técnica usada para registrar o movimento dos olhos durante uma tarefa visual. É registrado com a ajuda de uma câmera que segue o movimento dos olhos. O Eye tracking é usado para estudar a atenção visual, a percepção visual e o comportamento durante a navegação em ambientes virtuais.\n",
        "\n",
        "* ECoG: Implantação de eletrodos: Para registrar os sinais ECoG, são necessários eletrodos que possam ser implantados diretamente no cérebro do paciente. Os eletrodos são posicionados sobre a superfície do córtex cerebral e são fixados com um pequeno adesivo ou cola biocompatível.\n",
        "Amplificação e registro dos sinais: Os sinais ECoG são amplificados e registrados usando um equipamento chamado sistema de aquisição de dados. O sistema de aquisição de dados registra os sinais em tempo real, e permite a análise e o processamento dos sinais posteriormente.\n",
        "\n",
        "* Sudorese: Preparação da pele: Antes de registrar a sudorese, a pele do paciente precisa ser preparada para melhorar a condutividade elétrica. Geralmente, a pele é limpa e seca e é aplicado um gel condutor na superfície da pele onde os eletrodos serão colocados.\n",
        "Colocação de eletrodos: Os eletrodos de registro da sudorese são geralmente colocados nas pontas dos dedos ou na palma das mãos do paciente. Eles são fixados na pele com um adesivo ou uma pulseira e são conectados a um sistema de aquisição de dados.\n",
        "Amplificação e registro dos sinais: Os sinais de sudorese são amplificados e registrados usando um equipamento de registro de dados. O sistema de aquisição de dados registra os sinais em tempo real e permite a análise e o processamento dos sinais posteriormente."
      ],
      "metadata": {
        "id": "kSiQRW_3l04P"
      }
    },
    {
      "cell_type": "markdown",
      "source": [
        "##2.2 Preparação do paciente ou sujeito experimental"
      ],
      "metadata": {
        "id": "fCnY15hmoADu"
      }
    },
    {
      "cell_type": "markdown",
      "source": [
        "A preparação do paciente ou sujeito experimental é uma etapa importante para a obtenção de sinais eletrofisiológicos confiáveis. Abaixo estão algumas considerações importantes para a preparação do paciente/sujeito experimental para o registro de sinais eletrofisiológicos:\n",
        "\n",
        "* Obter o consentimento informado: É importante que o paciente/sujeito experimental esteja ciente do procedimento de registro de sinais eletrofisiológicos e dos possíveis riscos associados. Um consentimento informado deve ser obtido antes do procedimento.\n",
        "\n",
        "* Remoção de metais: Antes do procedimento, é importante remover qualquer objeto metálico que possa interferir no registro dos sinais eletrofisiológicos, como jóias, relógios, piercing e grampos de cabelo.\n",
        "\n",
        "* Higiene pessoal: É importante que o paciente/sujeito experimental esteja limpo e sem suor excessivo antes do procedimento, pois o suor pode afetar a qualidade dos sinais eletrofisiológicos.\n",
        "\n",
        "* Jejum: Em alguns procedimentos, como em eletroencefalograma (EEG), pode ser necessário que o paciente esteja em jejum para reduzir a interferência dos movimentos do trato gastrointestinal nos sinais registrados.\n",
        "\n",
        "* Relaxamento: Para algumas aplicações, como em biofeedback, é importante que o paciente esteja relaxado antes do procedimento para reduzir o ruído nos sinais eletrofisiológicos.\n",
        "\n",
        "* Vestimentas adequadas: Dependendo do procedimento, o paciente/sujeito experimental pode ser instruído a usar roupas confortáveis e de fácil acesso para a colocação dos eletrodos ou sensores.\n",
        "\n",
        "Em resumo, a preparação do paciente/sujeito experimental varia dependendo do tipo de sinal eletrofisiológico a ser registrado, mas geralmente envolve a remoção de metais, higiene pessoal, jejum e relaxamento, além de obter o consentimento informado do paciente/sujeito experimental."
      ],
      "metadata": {
        "id": "iJPr5s1loNKg"
      }
    },
    {
      "cell_type": "markdown",
      "source": [
        "##2.3 Considerações éticas"
      ],
      "metadata": {
        "id": "L-_8NkP7pSI8"
      }
    },
    {
      "cell_type": "markdown",
      "source": [
        "A obtenção de sinais eletrofisiológicos pode envolver questões éticas que devem ser levadas em consideração durante todo o processo. Algumas das considerações éticas mais importantes incluem:\n",
        "\n",
        "* Consentimento informado: É importante que o paciente ou sujeito experimental esteja ciente do procedimento e dos possíveis riscos associados. Um consentimento informado deve ser obtido antes do procedimento e o paciente deve ter a liberdade de desistir a qualquer momento.\n",
        "\n",
        "* Privacidade e confidencialidade: Os dados coletados devem ser mantidos confidenciais e apenas aqueles que têm autorização devem ter acesso aos dados. Os dados não devem ser divulgados a terceiros sem o consentimento do paciente.\n",
        "\n",
        "* Beneficência e não maleficência: O procedimento deve ser realizado de forma a maximizar os benefícios para o paciente ou sujeito experimental e minimizar os riscos e danos potenciais.\n",
        "\n",
        "* Justiça: O recrutamento de pacientes ou sujeitos experimentais deve ser justo e equitativo, sem discriminação com base em raça, etnia, gênero ou outras características pessoais.\n",
        "\n",
        "* Interesse da ciência: É importante que a pesquisa seja realizada com rigor científico e de acordo com os padrões éticos estabelecidos pela comunidade científica.\n",
        "\n",
        "* Responsabilidade profissional: Os pesquisadores devem ter conhecimento e habilidade suficientes para realizar o procedimento e tomar as medidas necessárias para minimizar os riscos potenciais.\n",
        "\n",
        "Em resumo, a obtenção de sinais eletrofisiológicos deve ser realizada com considerações éticas em mente, incluindo o consentimento informado, privacidade, beneficência e não maleficência, justiça, interesse da ciência e responsabilidade profissional."
      ],
      "metadata": {
        "id": "zglBkSi1pf8y"
      }
    },
    {
      "cell_type": "markdown",
      "source": [
        "##2.4 Empresas e softwares de aquisição"
      ],
      "metadata": {
        "id": "jJDBBcntp6jD"
      }
    },
    {
      "cell_type": "markdown",
      "source": [
        "Existem diversas empresas, marcas e softwares de aquisição de sinais eletrofisiológicos no mercado, cada um com suas características específicas. Algumas das principais empresas e marcas são:\n",
        "\n",
        "* BioSemi: Oferece sistemas de aquisição de EEG e MEG com alta qualidade de sinal e baixo ruído.\n",
        "\n",
        "* Brain Products: Oferece sistemas de aquisição de EEG, MEG e fNIRS, além de software de análise de dados.\n",
        "\n",
        "* g.tec: Oferece sistemas de aquisição de EEG, ECoG, EMG e EOG, além de softwares de análise e treinamento cerebral.\n",
        "\n",
        "* Blackrock Microsystems: Oferece sistemas de aquisição de ECoG, LFP e spikes, além de software de análise de dados.\n",
        "\n",
        "* Nihon Kohden: Oferece sistemas de aquisição de EEG, EMG, EOG e PSG, além de software de análise de dados.\n",
        "\n",
        "* Neurosky: Oferece dispositivos portáteis de aquisição de EEG para uso em pesquisas e aplicações comerciais.\n",
        "\n",
        "Alguns dos softwares de aquisição e análise de dados mais utilizados incluem:\n",
        "\n",
        "* LabVIEW: Um ambiente de desenvolvimento gráfico para aquisição de dados e controle de instrumentos.\n",
        "\n",
        "* BCI2000: Um software de código aberto para aquisição e processamento de sinais eletrofisiológicos em aplicações de interface cérebro-computador.\n",
        "\n",
        "* OpenVIBE: Um software de código aberto para aquisição e processamento de sinais eletrofisiológicos em aplicações de interface cérebro-computador.\n",
        "\n",
        "* BrainVision Recorder: Software de aquisição de dados de EEG e MEG, com suporte para uma ampla gama de sistemas de aquisição de dados.\n",
        "\n",
        "* LabChart: Software de aquisição de dados multi-sensorial com suporte para EEG, ECG, EMG, EOG, entre outros sinais eletrofisiológicos.\n",
        "\n",
        "* OpenBCI GUI: Software de aquisição de dados de EEG e outros sinais eletrofisiológicos, desenvolvido especificamente para uso com dispositivos OpenBCI.\n",
        "\n",
        "* EEGLAB: Um pacote de software livre para processamento e análise de EEG que também inclui recursos para aquisição de dados de EEG.\n",
        "\n",
        "* BioSemi ActiView: Software de aquisição de dados de EEG para uso com sistemas de aquisição de dados da BioSemi.\n",
        "\n",
        "* Neuroscan Acquire: Software de aquisição de dados de EEG, MEG e outros sinais neurofisiológicos, com suporte para vários sistemas de aquisição de dados.\n",
        "\n",
        "* EyeLink: Software de aquisição de dados de Eye-Tracking que permite a coleta de dados em tempo real a partir de dispositivos de rastreamento ocular, como o EyeLink 1000 e o EyeLink Portable Duo.\n",
        "\n",
        "* BIOPAC: Software de aquisição de dados para uma variedade de sinais eletrofisiológicos, incluindo GSR (Resposta Galvânica da Pele), ECG (Eletrocardiograma) e EMG (Eletromiografia).\n",
        "\n",
        "* Noldus Observer: Software de análise de comportamento e aquisição de dados que inclui recursos para captura de vídeo e análise de movimento ocular e expressão facial.\n",
        "\n",
        "* GazePoint: Software de aquisição de dados de Eye-Tracking que permite a coleta de dados em tempo real a partir de dispositivos de rastreamento ocular, como o GP3 HD e o GP3 Mini.\n",
        "\n",
        "* E-Prime: Software para experimentos de psicologia que inclui recursos para aquisição de dados de GSR (Resposta Galvânica da Pele) e ECG (Eletrocardiograma).\n",
        "\n",
        "* VIVO: Software de aquisição de dados de fala que permite a gravação e análise de sinais de voz, além de fornecer informações sobre a frequência, amplitude e duração dos sons vocais.\n",
        "\n",
        "É importante lembrar que a escolha da empresa, marca e software de aquisição deve ser feita com base nas necessidades específicas do experimento ou aplicação em questão, bem como nas características de cada sistema e software."
      ],
      "metadata": {
        "id": "JoBIY9w9rJh2"
      }
    },
    {
      "cell_type": "markdown",
      "source": [
        "#Capítulo 3 - Pré-processamento: Por que meus dados precisam disso?"
      ],
      "metadata": {
        "id": "XGCsyL8UrCbp"
      }
    },
    {
      "cell_type": "code",
      "execution_count": null,
      "metadata": {
        "id": "4OVzdwKodqNP"
      },
      "outputs": [],
      "source": []
    }
  ]
}